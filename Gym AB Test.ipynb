{
 "cells": [
  {
   "cell_type": "markdown",
   "id": "786474fd",
   "metadata": {},
   "source": [
    "# Introduction\n",
    "Currently, when a MuscleHub visitor purchases a membership, they follow the following steps:\n",
    "\n",
    "1. Take a fitness test with a personal trainer.\n",
    "2. Fill out an application for the gym.\n",
    "3. Send in their payment for their first month’s membership.\n",
    "\n",
    "We are suspecting the fitness test might intimidate some potential clients, thus apply an A/B test to figure it out."
   ]
  },
  {
   "cell_type": "markdown",
   "id": "5a7e7f3f",
   "metadata": {},
   "source": [
    "# Scoping\n",
    "The scoping section will be segmented into four sections: goal, action, data, and analysis\n",
    "\n",
    "## Goal\n",
    "The goal of the current project is to test out whether applying fitness test could decrease the number of client that fill out an application and/or the number of clients who actually bought in. The following hypotheses will be tested:\n",
    "\n",
    "Null Hypothesis 1 = There is no difference between the visitors in Group A that filled out application and the visitors in Group B that filled out application.\n",
    "\n",
    "Null Hypothesis 2 = There is no difference between the visitors in Group A that purchase membership and the visitors in Group B that purchase membership.\n",
    "\n",
    "## Action\n",
    "We will analyze exising data provided by Codecademy. Primarily, python would be the code for analysis.\n",
    "\n",
    "## Data\n",
    "There are four csv files given:\n",
    "\n",
    "`applications.csv`\n",
    "`fitness_tests.csv`\n",
    "`purchases.csv`\n",
    "`visits.csv`\n",
    "\n",
    "## Analysis\n",
    "Descriptive analysis, inferential analysis, and data visualisation will be employed to test out the hypotheses."
   ]
  },
  {
   "cell_type": "markdown",
   "id": "05f30902",
   "metadata": {},
   "source": [
    "## Import Modules"
   ]
  },
  {
   "cell_type": "code",
   "execution_count": 1,
   "id": "48256237",
   "metadata": {},
   "outputs": [],
   "source": [
    "import pandas as pd\n",
    "from scipy.stats import chi2_contingency\n",
    "import matplotlib.pyplot as plt"
   ]
  },
  {
   "cell_type": "markdown",
   "id": "bf88a8e2",
   "metadata": {},
   "source": [
    "## Load files\n",
    "`applications.csv` `fitness_tests.csv` `purchases.csv` `visits.csv` will be imported with pandas and named as 'app','test','purchases' and 'visit', respectively."
   ]
  },
  {
   "cell_type": "markdown",
   "id": "a8b08543",
   "metadata": {},
   "source": [
    "### visit\n",
    "The `visits.csv` file contains personal information of who visited the gym and the date when they visited."
   ]
  },
  {
   "cell_type": "code",
   "execution_count": 7,
   "id": "e1c3b62a",
   "metadata": {},
   "outputs": [
    {
     "data": {
      "text/html": [
       "<div>\n",
       "<style scoped>\n",
       "    .dataframe tbody tr th:only-of-type {\n",
       "        vertical-align: middle;\n",
       "    }\n",
       "\n",
       "    .dataframe tbody tr th {\n",
       "        vertical-align: top;\n",
       "    }\n",
       "\n",
       "    .dataframe thead th {\n",
       "        text-align: right;\n",
       "    }\n",
       "</style>\n",
       "<table border=\"1\" class=\"dataframe\">\n",
       "  <thead>\n",
       "    <tr style=\"text-align: right;\">\n",
       "      <th></th>\n",
       "      <th>first_name</th>\n",
       "      <th>last_name</th>\n",
       "      <th>email</th>\n",
       "      <th>gender</th>\n",
       "      <th>visit_date</th>\n",
       "    </tr>\n",
       "  </thead>\n",
       "  <tbody>\n",
       "    <tr>\n",
       "      <th>1882</th>\n",
       "      <td>Alvin</td>\n",
       "      <td>Ayala</td>\n",
       "      <td>AA1752@gmail.com</td>\n",
       "      <td>male</td>\n",
       "      <td>7-23-17</td>\n",
       "    </tr>\n",
       "    <tr>\n",
       "      <th>5743</th>\n",
       "      <td>Arnold</td>\n",
       "      <td>Albert</td>\n",
       "      <td>AA5439@gmail.com</td>\n",
       "      <td>male</td>\n",
       "      <td>9-5-17</td>\n",
       "    </tr>\n",
       "    <tr>\n",
       "      <th>5889</th>\n",
       "      <td>Anna</td>\n",
       "      <td>Aguilar</td>\n",
       "      <td>AA9306@gmail.com</td>\n",
       "      <td>female</td>\n",
       "      <td>9-8-17</td>\n",
       "    </tr>\n",
       "    <tr>\n",
       "      <th>2905</th>\n",
       "      <td>Alberto</td>\n",
       "      <td>Aguirre</td>\n",
       "      <td>AA9333@gmail.com</td>\n",
       "      <td>male</td>\n",
       "      <td>8-13-17</td>\n",
       "    </tr>\n",
       "    <tr>\n",
       "      <th>4039</th>\n",
       "      <td>Andy</td>\n",
       "      <td>Avery</td>\n",
       "      <td>AAvery1981@gmail.com</td>\n",
       "      <td>male</td>\n",
       "      <td>8-5-17</td>\n",
       "    </tr>\n",
       "  </tbody>\n",
       "</table>\n",
       "</div>"
      ],
      "text/plain": [
       "     first_name last_name                 email  gender visit_date\n",
       "1882      Alvin     Ayala      AA1752@gmail.com    male    7-23-17\n",
       "5743     Arnold    Albert      AA5439@gmail.com    male     9-5-17\n",
       "5889       Anna   Aguilar      AA9306@gmail.com  female     9-8-17\n",
       "2905    Alberto   Aguirre      AA9333@gmail.com    male    8-13-17\n",
       "4039       Andy     Avery  AAvery1981@gmail.com    male     8-5-17"
      ]
     },
     "metadata": {},
     "output_type": "display_data"
    }
   ],
   "source": [
    "visit = pd.read_csv('visits.csv').sort_values('email')\n",
    "display(visit.head())"
   ]
  },
  {
   "cell_type": "markdown",
   "id": "27e7fe59",
   "metadata": {},
   "source": [
    "### test\n",
    "The `fitness_tests.csv`file contains personal information of who did the fitness test and the data when they were tested."
   ]
  },
  {
   "cell_type": "code",
   "execution_count": 8,
   "id": "6166cb25",
   "metadata": {},
   "outputs": [
    {
     "data": {
      "text/html": [
       "<div>\n",
       "<style scoped>\n",
       "    .dataframe tbody tr th:only-of-type {\n",
       "        vertical-align: middle;\n",
       "    }\n",
       "\n",
       "    .dataframe tbody tr th {\n",
       "        vertical-align: top;\n",
       "    }\n",
       "\n",
       "    .dataframe thead th {\n",
       "        text-align: right;\n",
       "    }\n",
       "</style>\n",
       "<table border=\"1\" class=\"dataframe\">\n",
       "  <thead>\n",
       "    <tr style=\"text-align: right;\">\n",
       "      <th></th>\n",
       "      <th>first_name</th>\n",
       "      <th>last_name</th>\n",
       "      <th>email</th>\n",
       "      <th>gender</th>\n",
       "      <th>fitness_test_date</th>\n",
       "    </tr>\n",
       "  </thead>\n",
       "  <tbody>\n",
       "    <tr>\n",
       "      <th>434</th>\n",
       "      <td>Alvin</td>\n",
       "      <td>Ayala</td>\n",
       "      <td>AA1752@gmail.com</td>\n",
       "      <td>male</td>\n",
       "      <td>2017-07-25</td>\n",
       "    </tr>\n",
       "    <tr>\n",
       "      <th>2443</th>\n",
       "      <td>Anna</td>\n",
       "      <td>Aguilar</td>\n",
       "      <td>AA9306@gmail.com</td>\n",
       "      <td>female</td>\n",
       "      <td>2017-09-09</td>\n",
       "    </tr>\n",
       "    <tr>\n",
       "      <th>1371</th>\n",
       "      <td>Ashley</td>\n",
       "      <td>Avila</td>\n",
       "      <td>AAvila1987@gmail.com</td>\n",
       "      <td>female</td>\n",
       "      <td>2017-08-31</td>\n",
       "    </tr>\n",
       "    <tr>\n",
       "      <th>1714</th>\n",
       "      <td>Arlene</td>\n",
       "      <td>Brennan</td>\n",
       "      <td>AB5451@gmail.com</td>\n",
       "      <td>female</td>\n",
       "      <td>2017-09-03</td>\n",
       "    </tr>\n",
       "    <tr>\n",
       "      <th>1664</th>\n",
       "      <td>Alexander</td>\n",
       "      <td>Boyle</td>\n",
       "      <td>AB5498@gmail.com</td>\n",
       "      <td>male</td>\n",
       "      <td>2017-08-11</td>\n",
       "    </tr>\n",
       "  </tbody>\n",
       "</table>\n",
       "</div>"
      ],
      "text/plain": [
       "     first_name last_name                 email  gender fitness_test_date\n",
       "434       Alvin     Ayala      AA1752@gmail.com    male        2017-07-25\n",
       "2443       Anna   Aguilar      AA9306@gmail.com  female        2017-09-09\n",
       "1371     Ashley     Avila  AAvila1987@gmail.com  female        2017-08-31\n",
       "1714     Arlene   Brennan      AB5451@gmail.com  female        2017-09-03\n",
       "1664  Alexander     Boyle      AB5498@gmail.com    male        2017-08-11"
      ]
     },
     "metadata": {},
     "output_type": "display_data"
    }
   ],
   "source": [
    "test = pd.read_csv('fitness_tests.csv').sort_values('email')\n",
    "display(test.head())"
   ]
  },
  {
   "cell_type": "markdown",
   "id": "829b5a54",
   "metadata": {},
   "source": [
    "### app\n",
    "The `applications.csv` file contains personal information of who filled out the application form and the date when they filled it out."
   ]
  },
  {
   "cell_type": "code",
   "execution_count": 9,
   "id": "a8a7abf0",
   "metadata": {},
   "outputs": [
    {
     "data": {
      "text/html": [
       "<div>\n",
       "<style scoped>\n",
       "    .dataframe tbody tr th:only-of-type {\n",
       "        vertical-align: middle;\n",
       "    }\n",
       "\n",
       "    .dataframe tbody tr th {\n",
       "        vertical-align: top;\n",
       "    }\n",
       "\n",
       "    .dataframe thead th {\n",
       "        text-align: right;\n",
       "    }\n",
       "</style>\n",
       "<table border=\"1\" class=\"dataframe\">\n",
       "  <thead>\n",
       "    <tr style=\"text-align: right;\">\n",
       "      <th></th>\n",
       "      <th>first_name</th>\n",
       "      <th>last_name</th>\n",
       "      <th>email</th>\n",
       "      <th>gender</th>\n",
       "      <th>application_date</th>\n",
       "    </tr>\n",
       "  </thead>\n",
       "  <tbody>\n",
       "    <tr>\n",
       "      <th>7</th>\n",
       "      <td>Anna</td>\n",
       "      <td>Aguilar</td>\n",
       "      <td>AA9306@gmail.com</td>\n",
       "      <td>female</td>\n",
       "      <td>2017-09-10</td>\n",
       "    </tr>\n",
       "    <tr>\n",
       "      <th>12</th>\n",
       "      <td>Ashley</td>\n",
       "      <td>Avila</td>\n",
       "      <td>AAvila1987@gmail.com</td>\n",
       "      <td>female</td>\n",
       "      <td>2017-08-31</td>\n",
       "    </tr>\n",
       "    <tr>\n",
       "      <th>19</th>\n",
       "      <td>Arnold</td>\n",
       "      <td>Ballard</td>\n",
       "      <td>ABallard1998@hotmail.com</td>\n",
       "      <td>male</td>\n",
       "      <td>2017-08-16</td>\n",
       "    </tr>\n",
       "    <tr>\n",
       "      <th>116</th>\n",
       "      <td>Alice</td>\n",
       "      <td>Compton</td>\n",
       "      <td>AC3144@gmail.com</td>\n",
       "      <td>female</td>\n",
       "      <td>2017-07-08</td>\n",
       "    </tr>\n",
       "    <tr>\n",
       "      <th>111</th>\n",
       "      <td>Anita</td>\n",
       "      <td>Cline</td>\n",
       "      <td>ACline1970@gmail.com</td>\n",
       "      <td>female</td>\n",
       "      <td>2017-09-05</td>\n",
       "    </tr>\n",
       "  </tbody>\n",
       "</table>\n",
       "</div>"
      ],
      "text/plain": [
       "    first_name last_name                     email  gender application_date\n",
       "7         Anna   Aguilar          AA9306@gmail.com  female       2017-09-10\n",
       "12      Ashley     Avila      AAvila1987@gmail.com  female       2017-08-31\n",
       "19      Arnold   Ballard  ABallard1998@hotmail.com    male       2017-08-16\n",
       "116      Alice   Compton          AC3144@gmail.com  female       2017-07-08\n",
       "111      Anita     Cline      ACline1970@gmail.com  female       2017-09-05"
      ]
     },
     "metadata": {},
     "output_type": "display_data"
    }
   ],
   "source": [
    "app=pd.read_csv('applications.csv').sort_values('email')\n",
    "display(app.head())"
   ]
  },
  {
   "cell_type": "markdown",
   "id": "2b88d861",
   "metadata": {},
   "source": [
    "### pur\n",
    "The `purchases.csv` file contains personal information of who sent in their payment and the date when they purchased."
   ]
  },
  {
   "cell_type": "code",
   "execution_count": 5,
   "id": "a5cb6680",
   "metadata": {},
   "outputs": [
    {
     "data": {
      "text/html": [
       "<div>\n",
       "<style scoped>\n",
       "    .dataframe tbody tr th:only-of-type {\n",
       "        vertical-align: middle;\n",
       "    }\n",
       "\n",
       "    .dataframe tbody tr th {\n",
       "        vertical-align: top;\n",
       "    }\n",
       "\n",
       "    .dataframe thead th {\n",
       "        text-align: right;\n",
       "    }\n",
       "</style>\n",
       "<table border=\"1\" class=\"dataframe\">\n",
       "  <thead>\n",
       "    <tr style=\"text-align: right;\">\n",
       "      <th></th>\n",
       "      <th>first_name</th>\n",
       "      <th>last_name</th>\n",
       "      <th>email</th>\n",
       "      <th>gender</th>\n",
       "      <th>purchase_date</th>\n",
       "    </tr>\n",
       "  </thead>\n",
       "  <tbody>\n",
       "    <tr>\n",
       "      <th>6</th>\n",
       "      <td>Anna</td>\n",
       "      <td>Aguilar</td>\n",
       "      <td>AA9306@gmail.com</td>\n",
       "      <td>female</td>\n",
       "      <td>2017-09-16</td>\n",
       "    </tr>\n",
       "    <tr>\n",
       "      <th>11</th>\n",
       "      <td>Ashley</td>\n",
       "      <td>Avila</td>\n",
       "      <td>AAvila1987@gmail.com</td>\n",
       "      <td>female</td>\n",
       "      <td>2017-09-04</td>\n",
       "    </tr>\n",
       "    <tr>\n",
       "      <th>15</th>\n",
       "      <td>Arnold</td>\n",
       "      <td>Ballard</td>\n",
       "      <td>ABallard1998@hotmail.com</td>\n",
       "      <td>male</td>\n",
       "      <td>2017-08-16</td>\n",
       "    </tr>\n",
       "    <tr>\n",
       "      <th>91</th>\n",
       "      <td>Alice</td>\n",
       "      <td>Compton</td>\n",
       "      <td>AC3144@gmail.com</td>\n",
       "      <td>female</td>\n",
       "      <td>2017-07-11</td>\n",
       "    </tr>\n",
       "    <tr>\n",
       "      <th>212</th>\n",
       "      <td>Alice</td>\n",
       "      <td>Houston</td>\n",
       "      <td>AH6808@gmail.com</td>\n",
       "      <td>female</td>\n",
       "      <td>2017-09-13</td>\n",
       "    </tr>\n",
       "  </tbody>\n",
       "</table>\n",
       "</div>"
      ],
      "text/plain": [
       "    first_name last_name                     email  gender purchase_date\n",
       "6         Anna   Aguilar          AA9306@gmail.com  female    2017-09-16\n",
       "11      Ashley     Avila      AAvila1987@gmail.com  female    2017-09-04\n",
       "15      Arnold   Ballard  ABallard1998@hotmail.com    male    2017-08-16\n",
       "91       Alice   Compton          AC3144@gmail.com  female    2017-07-11\n",
       "212      Alice   Houston          AH6808@gmail.com  female    2017-09-13"
      ]
     },
     "metadata": {},
     "output_type": "display_data"
    }
   ],
   "source": [
    "pur = pd.read_csv('purchases.csv').sort_values('email')\n",
    "display(pur.head())"
   ]
  },
  {
   "cell_type": "markdown",
   "id": "7b7e4a23",
   "metadata": {},
   "source": [
    "## Data Characteristics"
   ]
  },
  {
   "cell_type": "code",
   "execution_count": 11,
   "id": "598811fc",
   "metadata": {},
   "outputs": [
    {
     "name": "stdout",
     "output_type": "stream",
     "text": [
      "visits shape:(6000, 5)\n",
      "fitness_test shape:(2500, 5)\n",
      "applications shape:(575, 5)\n",
      "purchases shape:(450, 5)\n"
     ]
    }
   ],
   "source": [
    "print(f'visits shape:{visit.shape}')\n",
    "print(f'fitness_test shape:{test.shape}')\n",
    "print(f'applications shape:{app.shape}')\n",
    "print(f'purchases shape:{pur.shape}')"
   ]
  },
  {
   "cell_type": "markdown",
   "id": "248ca63d",
   "metadata": {},
   "source": [
    "We can tell the number of subjects of each tables gradually decrease, which is normal based on the flow of membership purhcase."
   ]
  },
  {
   "cell_type": "markdown",
   "id": "5fa26205",
   "metadata": {},
   "source": [
    "## Data Merging\n",
    "All four DataFrames shared the same primary key, which is email. We will combine all four DataFrame here with join key set as first name, last name, and email."
   ]
  },
  {
   "cell_type": "code",
   "execution_count": 13,
   "id": "93334ab3",
   "metadata": {},
   "outputs": [
    {
     "name": "stderr",
     "output_type": "stream",
     "text": [
      "/var/folders/md/hbrjvx4s3nb147_zj3mhjbth0000gn/T/ipykernel_88646/3215076439.py:3: FutureWarning: Passing 'suffixes' which cause duplicate columns {'gender_x'} in the result is deprecated and will raise a MergeError in a future version.\n",
      "  all_df=pd.merge(app_test_pur,visit,left_on=['first_name','last_name','email'],right_on=['first_name','last_name','email'],how='outer')\n"
     ]
    }
   ],
   "source": [
    "app_test = pd.merge(app,test, left_on = ['first_name','last_name','email'],right_on=['first_name','last_name','email'],how='outer')\n",
    "app_test_pur = pd.merge(app_test,pur,left_on=['first_name','last_name','email'],right_on=['first_name','last_name','email'],how='outer')\n",
    "all_df=pd.merge(app_test_pur,visit,left_on=['first_name','last_name','email'],right_on=['first_name','last_name','email'],how='outer')\n",
    "all_df=all_df[all_df['visit_date']>='7-1-17']"
   ]
  },
  {
   "cell_type": "code",
   "execution_count": 14,
   "id": "f15f5da9",
   "metadata": {},
   "outputs": [
    {
     "name": "stdout",
     "output_type": "stream",
     "text": [
      "(5004, 11)\n"
     ]
    }
   ],
   "source": [
    "print(all_df.shape)"
   ]
  },
  {
   "cell_type": "markdown",
   "id": "19b5495d",
   "metadata": {},
   "source": [
    "### Create A/B label\n",
    "We are setting those who did not perform fitness test as 'A', which would have no value on the column `fitness_test_date`. Those who did perform fitness test would be categorized as 'B' group"
   ]
  },
  {
   "cell_type": "code",
   "execution_count": 15,
   "id": "f1f9b8ae",
   "metadata": {},
   "outputs": [
    {
     "name": "stdout",
     "output_type": "stream",
     "text": [
      "B    2504\n",
      "A    2500\n",
      "Name: test_or_not, dtype: int64\n"
     ]
    }
   ],
   "source": [
    "all_df['test_or_not'] = ['A' if pd.isnull(x) else 'B' for x in all_df['fitness_test_date']]\n",
    "print(all_df['test_or_not'].value_counts())"
   ]
  },
  {
   "cell_type": "markdown",
   "id": "b85144ad",
   "metadata": {},
   "source": [
    "We are having similar number of subjects in each group, suggesting eligible to perform A/B test."
   ]
  },
  {
   "cell_type": "markdown",
   "id": "f694bbf0",
   "metadata": {},
   "source": [
    "## Analysis"
   ]
  },
  {
   "cell_type": "markdown",
   "id": "5e200e8a",
   "metadata": {},
   "source": [
    "To see the difference between A and B group, we will first examine the rate of subjects who did filled out application"
   ]
  },
  {
   "cell_type": "code",
   "execution_count": 16,
   "id": "4831e6d0",
   "metadata": {},
   "outputs": [],
   "source": [
    "# Label those who did not fill out application form as 'À'\n",
    "all_df['app_or_not']=['A' if pd.isnull(x) else 'B' for x in all_df['application_date']]"
   ]
  },
  {
   "cell_type": "code",
   "execution_count": 51,
   "id": "0694cec0",
   "metadata": {},
   "outputs": [
    {
     "name": "stderr",
     "output_type": "stream",
     "text": [
      "/var/folders/md/hbrjvx4s3nb147_zj3mhjbth0000gn/T/ipykernel_88646/1776345039.py:2: FutureWarning: Dropping of nuisance columns in DataFrame reductions (with 'numeric_only=None') is deprecated; in a future version this will raise TypeError.  Select only valid columns before calling the reduction.\n",
      "  test_and_app['total']=test_and_app.sum(axis=1)\n"
     ]
    },
    {
     "data": {
      "text/html": [
       "<div>\n",
       "<style scoped>\n",
       "    .dataframe tbody tr th:only-of-type {\n",
       "        vertical-align: middle;\n",
       "    }\n",
       "\n",
       "    .dataframe tbody tr th {\n",
       "        vertical-align: top;\n",
       "    }\n",
       "\n",
       "    .dataframe thead th {\n",
       "        text-align: right;\n",
       "    }\n",
       "</style>\n",
       "<table border=\"1\" class=\"dataframe\">\n",
       "  <thead>\n",
       "    <tr style=\"text-align: right;\">\n",
       "      <th>app_or_not</th>\n",
       "      <th>test_or_not</th>\n",
       "      <th>A</th>\n",
       "      <th>B</th>\n",
       "      <th>total</th>\n",
       "      <th>ratio_of_app</th>\n",
       "    </tr>\n",
       "  </thead>\n",
       "  <tbody>\n",
       "    <tr>\n",
       "      <th>0</th>\n",
       "      <td>A</td>\n",
       "      <td>2175</td>\n",
       "      <td>325</td>\n",
       "      <td>2500</td>\n",
       "      <td>0.13000</td>\n",
       "    </tr>\n",
       "    <tr>\n",
       "      <th>1</th>\n",
       "      <td>B</td>\n",
       "      <td>2254</td>\n",
       "      <td>250</td>\n",
       "      <td>2504</td>\n",
       "      <td>0.09984</td>\n",
       "    </tr>\n",
       "  </tbody>\n",
       "</table>\n",
       "</div>"
      ],
      "text/plain": [
       "app_or_not test_or_not     A    B  total  ratio_of_app\n",
       "0                    A  2175  325   2500       0.13000\n",
       "1                    B  2254  250   2504       0.09984"
      ]
     },
     "metadata": {},
     "output_type": "display_data"
    }
   ],
   "source": [
    "test_and_app=all_df.groupby(['test_or_not','app_or_not']).size().reset_index(name='count').pivot(index='test_or_not',columns='app_or_not',values='count').reset_index()\n",
    "test_and_app['total']=test_and_app.sum(axis=1)\n",
    "test_and_app['ratio_of_app']=test_and_app['B']/test_and_app['total']\n",
    "display(test_and_app)"
   ]
  },
  {
   "cell_type": "markdown",
   "id": "1bb6b8a5",
   "metadata": {},
   "source": [
    "We can tell from this table that those who did not participate in fitness test (A in test_or_not) have higher percentage of participants who did filled out the application form."
   ]
  },
  {
   "cell_type": "markdown",
   "id": "25c7e76e",
   "metadata": {},
   "source": [
    "Let's perform Chi-square test to see if significant difference exist."
   ]
  },
  {
   "cell_type": "code",
   "execution_count": 42,
   "id": "8d03474a",
   "metadata": {},
   "outputs": [
    {
     "name": "stdout",
     "output_type": "stream",
     "text": [
      "p-value:0.0009647827600722304\n"
     ]
    }
   ],
   "source": [
    "contingency1=test_and_app.iloc[:,:2]\n",
    "chi,p_value,_,_=chi2_contingency(contingency1)\n",
    "print(f'p-value:{p_value}')"
   ]
  },
  {
   "cell_type": "markdown",
   "id": "af82d4c5",
   "metadata": {},
   "source": [
    "#### The p_value is under the threshold of 0.05, suggesting significant difference exists. \n",
    "Those who did not participate in fitness test (group A) has significantly higher ratio of subjects who filled out the application form."
   ]
  },
  {
   "cell_type": "markdown",
   "id": "6b0b64a1",
   "metadata": {},
   "source": [
    "We will next examine the difference in ratio of membership purchase."
   ]
  },
  {
   "cell_type": "code",
   "execution_count": 33,
   "id": "512fb3a8",
   "metadata": {},
   "outputs": [],
   "source": [
    "# Label those who did not purchase membership as 'À'\n",
    "all_df['pur_or_not']=['A' if pd.isnull(x) else 'B' for x in all_df['purchase_date']]"
   ]
  },
  {
   "cell_type": "code",
   "execution_count": 37,
   "id": "0bcf897c",
   "metadata": {},
   "outputs": [
    {
     "data": {
      "text/html": [
       "<div>\n",
       "<style scoped>\n",
       "    .dataframe tbody tr th:only-of-type {\n",
       "        vertical-align: middle;\n",
       "    }\n",
       "\n",
       "    .dataframe tbody tr th {\n",
       "        vertical-align: top;\n",
       "    }\n",
       "\n",
       "    .dataframe thead th {\n",
       "        text-align: right;\n",
       "    }\n",
       "</style>\n",
       "<table border=\"1\" class=\"dataframe\">\n",
       "  <thead>\n",
       "    <tr style=\"text-align: right;\">\n",
       "      <th>pur_or_not</th>\n",
       "      <th>A</th>\n",
       "      <th>B</th>\n",
       "      <th>total</th>\n",
       "      <th>ratio_of_pur</th>\n",
       "    </tr>\n",
       "    <tr>\n",
       "      <th>test_or_not</th>\n",
       "      <th></th>\n",
       "      <th></th>\n",
       "      <th></th>\n",
       "      <th></th>\n",
       "    </tr>\n",
       "  </thead>\n",
       "  <tbody>\n",
       "    <tr>\n",
       "      <th>A</th>\n",
       "      <td>75</td>\n",
       "      <td>250</td>\n",
       "      <td>325</td>\n",
       "      <td>0.769231</td>\n",
       "    </tr>\n",
       "    <tr>\n",
       "      <th>B</th>\n",
       "      <td>50</td>\n",
       "      <td>200</td>\n",
       "      <td>250</td>\n",
       "      <td>0.800000</td>\n",
       "    </tr>\n",
       "  </tbody>\n",
       "</table>\n",
       "</div>"
      ],
      "text/plain": [
       "pur_or_not    A    B  total  ratio_of_pur\n",
       "test_or_not                              \n",
       "A            75  250    325      0.769231\n",
       "B            50  200    250      0.800000"
      ]
     },
     "metadata": {},
     "output_type": "display_data"
    }
   ],
   "source": [
    "test_and_pur=all_df[all_df['app_or_not']=='B'].groupby(['test_or_not','pur_or_not']).size().reset_index(name='count')\\\n",
    ".pivot(index='test_or_not',columns='pur_or_not',values='count')\n",
    "test_and_pur['total']=test_and_pur.sum(axis=1)\n",
    "test_and_pur['ratio_of_pur']=test_and_pur['B']/test_and_pur['total']\n",
    "display(test_and_pur)"
   ]
  },
  {
   "cell_type": "markdown",
   "id": "e4d3ac9e",
   "metadata": {},
   "source": [
    "It seems like those who did not participate in the fitness test has lower ratio of membership purchase.\n",
    "We will perform Chi-square test in the following section."
   ]
  },
  {
   "cell_type": "code",
   "execution_count": 43,
   "id": "d20f21ef",
   "metadata": {},
   "outputs": [
    {
     "name": "stdout",
     "output_type": "stream",
     "text": [
      "p-value:0.43258646051083327\n"
     ]
    }
   ],
   "source": [
    "contingency2=test_and_pur.iloc[:,:2]\n",
    "chi_2,p_value_2,_,_=chi2_contingency(contingency2)\n",
    "print(f'p-value:{p_value_2}')"
   ]
  },
  {
   "cell_type": "markdown",
   "id": "347e982a",
   "metadata": {},
   "source": [
    "The p_value (0.433) indicates that there is no significant difference, we can only conclude that there is a trend showing participation of fitness test could potentially leads to membership buy-in."
   ]
  },
  {
   "cell_type": "markdown",
   "id": "1e1efb63",
   "metadata": {},
   "source": [
    "In the previous section, we examine the difference in ratio of purchase of **those who did filled out application**.\n",
    "We will take a look at the difference in ratio of purchase of **all participants**."
   ]
  },
  {
   "cell_type": "code",
   "execution_count": 39,
   "id": "d074d9bc",
   "metadata": {},
   "outputs": [
    {
     "data": {
      "text/html": [
       "<div>\n",
       "<style scoped>\n",
       "    .dataframe tbody tr th:only-of-type {\n",
       "        vertical-align: middle;\n",
       "    }\n",
       "\n",
       "    .dataframe tbody tr th {\n",
       "        vertical-align: top;\n",
       "    }\n",
       "\n",
       "    .dataframe thead th {\n",
       "        text-align: right;\n",
       "    }\n",
       "</style>\n",
       "<table border=\"1\" class=\"dataframe\">\n",
       "  <thead>\n",
       "    <tr style=\"text-align: right;\">\n",
       "      <th>pur_or_not</th>\n",
       "      <th>A</th>\n",
       "      <th>B</th>\n",
       "      <th>total</th>\n",
       "      <th>ratio_of_pur</th>\n",
       "    </tr>\n",
       "    <tr>\n",
       "      <th>test_or_not</th>\n",
       "      <th></th>\n",
       "      <th></th>\n",
       "      <th></th>\n",
       "      <th></th>\n",
       "    </tr>\n",
       "  </thead>\n",
       "  <tbody>\n",
       "    <tr>\n",
       "      <th>A</th>\n",
       "      <td>2250</td>\n",
       "      <td>250</td>\n",
       "      <td>2500</td>\n",
       "      <td>0.100000</td>\n",
       "    </tr>\n",
       "    <tr>\n",
       "      <th>B</th>\n",
       "      <td>2304</td>\n",
       "      <td>200</td>\n",
       "      <td>2504</td>\n",
       "      <td>0.079872</td>\n",
       "    </tr>\n",
       "  </tbody>\n",
       "</table>\n",
       "</div>"
      ],
      "text/plain": [
       "pur_or_not      A    B  total  ratio_of_pur\n",
       "test_or_not                                \n",
       "A            2250  250   2500      0.100000\n",
       "B            2304  200   2504      0.079872"
      ]
     },
     "metadata": {},
     "output_type": "display_data"
    }
   ],
   "source": [
    "test_and_pur_all=all_df.groupby(['test_or_not','pur_or_not']).size().reset_index(name='count')\\\n",
    ".pivot(index='test_or_not',columns='pur_or_not',values='count')\n",
    "test_and_pur_all['total']=test_and_pur_all.sum(axis=1)\n",
    "test_and_pur_all['ratio_of_pur']=test_and_pur_all['B']/test_and_pur_all['total']\n",
    "display(test_and_pur_all)"
   ]
  },
  {
   "cell_type": "markdown",
   "id": "15719bc5",
   "metadata": {},
   "source": [
    "Overall, it seems like the participation of fitness test could be an obstacle of membership purchase. Let's examine the significance of difference."
   ]
  },
  {
   "cell_type": "code",
   "execution_count": 41,
   "id": "c5676f9a",
   "metadata": {},
   "outputs": [
    {
     "name": "stdout",
     "output_type": "stream",
     "text": [
      "p-value:0.0147241146457832\n"
     ]
    }
   ],
   "source": [
    "contingency3=test_and_pur_all.iloc[:,:2]\n",
    "chi_3,p_value_3,_,_ = chi2_contingency(contingency3)\n",
    "print(f'p-value:{p_value_3}')"
   ]
  },
  {
   "cell_type": "markdown",
   "id": "3e785cbd",
   "metadata": {},
   "source": [
    "The p-value indicates that of there is a significant difference in the ratio of membership purchase between group A and B."
   ]
  },
  {
   "cell_type": "markdown",
   "id": "02f1472e",
   "metadata": {},
   "source": [
    "## Visualization \n"
   ]
  },
  {
   "cell_type": "markdown",
   "id": "846ca463",
   "metadata": {},
   "source": [
    "I will visualize the result with significant difference in order to better illustrate my findings.\n",
    "Starting with the difference in ratio of application between those who did not get tested and those who did."
   ]
  },
  {
   "cell_type": "code",
   "execution_count": 57,
   "id": "0ebcb3f4",
   "metadata": {},
   "outputs": [
    {
     "data": {
      "image/png": "[encoded data removed]",
      "text/plain": [
       "<Figure size 1200x600 with 1 Axes>"
      ]
     },
     "metadata": {},
     "output_type": "display_data"
    }
   ],
   "source": [
    "fig = plt.figure(figsize=(12,6))\n",
    "plt.bar(range(len(test_and_app['test_or_not'])),test_and_app['ratio_of_app'])\n",
    "plt.xticks(range(len(test_and_app['test_or_not'])),['No Fitness Test', 'Fitness Test'])\n",
    "plt.ylabel('ratio')\n",
    "plt.show()"
   ]
  },
  {
   "cell_type": "markdown",
   "id": "18c9f536",
   "metadata": {},
   "source": [
    "In this section, I will visualize the difference in ratio of membership purchase between those who did not get tested and those who did."
   ]
  },
  {
   "cell_type": "code",
   "execution_count": 62,
   "id": "0ef887e3",
   "metadata": {},
   "outputs": [
    {
     "data": {
      "image/png": "[encoded data removed]",
      "text/plain": [
       "<Figure size 1200x600 with 1 Axes>"
      ]
     },
     "metadata": {},
     "output_type": "display_data"
    }
   ],
   "source": [
    "fig2 = plt.figure(figsize=(12,6))\n",
    "plt.bar(range(len(test_and_pur_all)),test_and_pur_all['ratio_of_pur'])\n",
    "plt.xticks(range(len(test_and_pur_all)),['No Fitness Test','Fitness Test'])\n",
    "plt.yticks([0.05, 0.10, 0.15, 0.20], ['5%', '10%', '15%', '20%'])\n",
    "plt.ylabel('Percentage')\n",
    "plt.show()"
   ]
  },
  {
   "cell_type": "markdown",
   "id": "8bd97edd",
   "metadata": {},
   "source": [
    "## Conclusion\n",
    "This project is aimed to understand whether fitness test can deteriorate membership purchase.\n",
    "Here are what we found:\n",
    "- fitness test can significantly lower the ratio of application of all gym visitors.\n",
    "- Of those who did fill out application form, fitness test has no significant effect on membership purchase.\n",
    "- Of all gym visitors, fitness test has significant effect on membership purchase."
   ]
  },
  {
   "cell_type": "markdown",
   "id": "3f591b94",
   "metadata": {},
   "source": [
    "## Future Research\n",
    "- Current A/B test only compare ratio of application and purchase, it would be more informative to compare:\n",
    "    - the usage of membership\n",
    "    - the length of membership\n",
    "    - whether the client introduce other visitor to the gym"
   ]
  }
 ],
 "metadata": {
  "kernelspec": {
   "display_name": "Python 3 (ipykernel)",
   "language": "python",
   "name": "python3"
  },
  "language_info": {
   "codemirror_mode": {
    "name": "ipython",
    "version": 3
   },
   "file_extension": ".py",
   "mimetype": "text/x-python",
   "name": "python",
   "nbconvert_exporter": "python",
   "pygments_lexer": "ipython3",
   "version": "3.9.13"
  }
 },
 "nbformat": 4,
 "nbformat_minor": 5
}
